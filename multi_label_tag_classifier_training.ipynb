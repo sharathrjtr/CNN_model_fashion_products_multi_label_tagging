{
 "cells": [
  {
   "cell_type": "markdown",
   "metadata": {},
   "source": [
    "## CNN classifier for multi label tagging of Myntra fashion products"
   ]
  },
  {
   "cell_type": "code",
   "execution_count": 192,
   "metadata": {},
   "outputs": [],
   "source": [
    "import numpy as np\n",
    "import pandas as pd\n",
    "import os\n",
    "import PIL\n",
    "import keras\n",
    "\n",
    "from keras.preprocessing.image import load_img, img_to_array\n"
   ]
  },
  {
   "cell_type": "code",
   "execution_count": null,
   "metadata": {},
   "outputs": [],
   "source": [
    "!git clone https://github.com/sharathrjtr/CNN_model_fashion_products_multi_label_tagging.git"
   ]
  },
  {
   "cell_type": "code",
   "execution_count": null,
   "metadata": {},
   "outputs": [],
   "source": [
    "# import kaggle\n",
    "# os.environ['KAGGLE_USERNAME'] = \"sharathrjtr\"\n",
    "# os.environ['KAGGLE_KEY'] = \"\"#\"d35c14881c49c76dfc844f0740236ad1\"\n",
    "# upload your kaggle.json file. If you don't have it then you can get it by clicking \"Create New API Token\" under your kaggle Account/Profile/API\n",
    "os.environ['KAGGLE_CONFIG_DIR']='/content/'\n",
    "!kaggle datasets download -d paramaggarwal/fashion-product-images-small\n",
    "# !rm -r fashion-product-images-small.zip"
   ]
  },
  {
   "cell_type": "code",
   "execution_count": 128,
   "metadata": {},
   "outputs": [],
   "source": [
    "def cleanup_csv_mapping(mapping_csv):\n",
    "    # articleType can be used to find subCategory and masterCategory. \n",
    "    # Year specifies particular year the product is made, productDisplayName is something unique to the product and not a generalization.\n",
    "    # Hence, we are dropping masterCategory, subCartegory, year and productDisplayName columns from the data frame.\n",
    "    mapping_csv.drop(['masterCategory', 'subCategory', 'year', 'productDisplayName'], axis=1, inplace=True)\n",
    "\n",
    "    # Drop the samples which don't have any value in any of the columns.\n",
    "    mapping_csv.dropna(inplace=True)\n",
    "    mapping_csv.head()\n",
    "    \n",
    "    return mapping_csv"
   ]
  },
  {
   "cell_type": "code",
   "execution_count": 154,
   "metadata": {},
   "outputs": [],
   "source": [
    "# create a list of tags available among gender, articleType, baseColour, season and usage\n",
    "# generate a mapping from tags to integers and integers to tags\n",
    "def extract_tags_mapping(mapping_csv):\n",
    "    labels = set()\n",
    "    \n",
    "    for index, row in mapping_csv.iterrows():\n",
    "        fileid = row['id']\n",
    "        gender = row['gender']\n",
    "        article_type = row['articleType']\n",
    "        base_colour = row['baseColour']\n",
    "        season = row['season']\n",
    "        usage = row['usage']\n",
    "        \n",
    "        labels.update([gender, article_type, base_colour, season, usage])\n",
    "    print('Total labels:', len(labels))\n",
    "\n",
    "    # convert the labels to a list and sort them alphabetically\n",
    "    labels = list(labels)\n",
    "    # order set alphabetically\n",
    "    labels.sort()\n",
    "    \n",
    "    # create dictionary that maps labels to integers so that we can encode the training dataset for modeling.\n",
    "    # create a dictionary with reverse mapping from integers to string tag values, so later when the model makes a prediction, we can turn it into something readable.\n",
    "    labels_map = {labels[i]: i for i in range(len(labels))}\n",
    "    inv_labels_map = {i:labels[i] for i in range(len(labels))}\n",
    "    \n",
    "    return labels_map, inv_labels_map"
   ]
  },
  {
   "cell_type": "code",
   "execution_count": 149,
   "metadata": {},
   "outputs": [],
   "source": [
    "# extract the training images filename and labels for all images.\n",
    "def extract_img_ids_labels(mapping_csv):\n",
    "    image_ids = []\n",
    "    image_labels = dict()\n",
    "    for index, row in mapping_csv.iterrows():\n",
    "        fileid = row['id']\n",
    "        gender = row['gender']\n",
    "        article_type = row['articleType']\n",
    "        base_colour = row['baseColour']\n",
    "        season = row['season']\n",
    "        usage = row['usage']\n",
    "        \n",
    "        if os.path.exists('myntradataset/images/'+str(fileid)+'.jpg'):\n",
    "            image_ids.append(fileid)\n",
    "            image_labels[fileid] = [gender, article_type, base_colour, season, usage]\n",
    "    \n",
    "    print('Number of train files: ', len(image_ids))\n",
    "    \n",
    "    return image_ids, image_labels"
   ]
  },
  {
   "cell_type": "code",
   "execution_count": 131,
   "metadata": {},
   "outputs": [],
   "source": [
    "# create a one hot encoding for one list of tags\n",
    "def one_hot_encode(tags, mapping):\n",
    "    # create empty vector\n",
    "    encoding = np.zeros(len(mapping), dtype='uint8')\n",
    "    # mark 1 for each tag in the vector\n",
    "    for tag in tags:\n",
    "        encoding[mapping[tag]] = 1\n",
    "    return encoding"
   ]
  },
  {
   "cell_type": "code",
   "execution_count": 146,
   "metadata": {},
   "outputs": [],
   "source": [
    "# load images and extract labels in one hot encode form\n",
    "def load_dataset(image_ids, image_labels, tag_mapping):\n",
    "    images, targets = list(), list()\n",
    "    # enumerate file in the directory\n",
    "    for filename in image_ids:\n",
    "        # load image\n",
    "        image = load_img(os.path.join('myntradataset/images', str(filename)+'.jpg'), target_size=(60,80))\n",
    "        # convert to numpy array\n",
    "        image = img_to_array(image, dtype='uint8')\n",
    "        # get tags\n",
    "        tags = image_labels[filename]\n",
    "        # one hot encode tags\n",
    "        target = one_hot_encode(tags, tag_mapping)\n",
    "        # store train image and tags\n",
    "        images.append(image)\n",
    "        targets.append(target)\n",
    "    \n",
    "    X = np.asarray(images, dtype='uint8')\n",
    "    y = np.asarray(targets, dtype='uint8')\n",
    "    return X, y"
   ]
  },
  {
   "cell_type": "code",
   "execution_count": 137,
   "metadata": {},
   "outputs": [
    {
     "name": "stdout",
     "output_type": "stream",
     "text": [
      "(44446, 10)\n",
      "(44101, 6)\n"
     ]
    },
    {
     "data": {
      "text/html": [
       "<div>\n",
       "<style scoped>\n",
       "    .dataframe tbody tr th:only-of-type {\n",
       "        vertical-align: middle;\n",
       "    }\n",
       "\n",
       "    .dataframe tbody tr th {\n",
       "        vertical-align: top;\n",
       "    }\n",
       "\n",
       "    .dataframe thead th {\n",
       "        text-align: right;\n",
       "    }\n",
       "</style>\n",
       "<table border=\"1\" class=\"dataframe\">\n",
       "  <thead>\n",
       "    <tr style=\"text-align: right;\">\n",
       "      <th></th>\n",
       "      <th>id</th>\n",
       "      <th>gender</th>\n",
       "      <th>articleType</th>\n",
       "      <th>baseColour</th>\n",
       "      <th>season</th>\n",
       "      <th>usage</th>\n",
       "    </tr>\n",
       "  </thead>\n",
       "  <tbody>\n",
       "    <tr>\n",
       "      <th>0</th>\n",
       "      <td>15970</td>\n",
       "      <td>Men</td>\n",
       "      <td>Shirts</td>\n",
       "      <td>Navy Blue</td>\n",
       "      <td>Fall</td>\n",
       "      <td>Casual</td>\n",
       "    </tr>\n",
       "    <tr>\n",
       "      <th>1</th>\n",
       "      <td>39386</td>\n",
       "      <td>Men</td>\n",
       "      <td>Jeans</td>\n",
       "      <td>Blue</td>\n",
       "      <td>Summer</td>\n",
       "      <td>Casual</td>\n",
       "    </tr>\n",
       "    <tr>\n",
       "      <th>2</th>\n",
       "      <td>59263</td>\n",
       "      <td>Women</td>\n",
       "      <td>Watches</td>\n",
       "      <td>Silver</td>\n",
       "      <td>Winter</td>\n",
       "      <td>Casual</td>\n",
       "    </tr>\n",
       "    <tr>\n",
       "      <th>3</th>\n",
       "      <td>21379</td>\n",
       "      <td>Men</td>\n",
       "      <td>Track Pants</td>\n",
       "      <td>Black</td>\n",
       "      <td>Fall</td>\n",
       "      <td>Casual</td>\n",
       "    </tr>\n",
       "    <tr>\n",
       "      <th>4</th>\n",
       "      <td>53759</td>\n",
       "      <td>Men</td>\n",
       "      <td>Tshirts</td>\n",
       "      <td>Grey</td>\n",
       "      <td>Summer</td>\n",
       "      <td>Casual</td>\n",
       "    </tr>\n",
       "  </tbody>\n",
       "</table>\n",
       "</div>"
      ],
      "text/plain": [
       "      id gender  articleType baseColour  season   usage\n",
       "0  15970    Men       Shirts  Navy Blue    Fall  Casual\n",
       "1  39386    Men        Jeans       Blue  Summer  Casual\n",
       "2  59263  Women      Watches     Silver  Winter  Casual\n",
       "3  21379    Men  Track Pants      Black    Fall  Casual\n",
       "4  53759    Men      Tshirts       Grey  Summer  Casual"
      ]
     },
     "execution_count": 137,
     "metadata": {},
     "output_type": "execute_result"
    }
   ],
   "source": [
    "csv_filename = 'myntradataset/styles.csv'\n",
    "# Read the csv file and clean up the file to extract relevant data\n",
    "# productDisplayName column consist of extra commas for few row. \n",
    "# These were manually removed as it can result in error during reading of the file\n",
    "mapping_csv = pd.read_csv(filename)\n",
    "print(mapping_csv.shape)\n",
    "\n",
    "mapping_csv = cleanup_csv_mapping(mapping_csv)\n",
    "print(mapping_csv.shape)\n",
    "mapping_csv.head()"
   ]
  },
  {
   "cell_type": "code",
   "execution_count": 155,
   "metadata": {},
   "outputs": [
    {
     "name": "stdout",
     "output_type": "stream",
     "text": [
      "Total labels: 205\n",
      "Number of train files:  44096\n",
      "(44096, 60, 80, 3) (44096, 205)\n"
     ]
    }
   ],
   "source": [
    "# extract mapping from labels to indices and indices to labels\n",
    "labels_to_idx, idx_to_labels = extract_tags_mapping(mapping_csv)\n",
    "\n",
    "# extract the images filename and tags for training dataset\n",
    "train_ids, train_labels = extract_img_ids_labels(mapping_csv)\n",
    "\n",
    "# load the dataset, the actual images and labels for each image with one-hot encoding\n",
    "train_images, train_tags = load_dataset(train_ids, train_labels, labels_to_idx)\n",
    "print(train_images.shape, train_tags.shape)\n",
    "\n",
    "# Total size of image loaded will be about 60*80*3*44101*8 / (1000000000*8) = 0.635GB\n",
    "# save both arrays to one file in compressed format\n",
    "np.savez_compressed('myntra_train_data.npz', train_images, train_tags)"
   ]
  },
  {
   "cell_type": "code",
   "execution_count": 193,
   "metadata": {},
   "outputs": [],
   "source": [
    "# baseline model for the planet dataset\n",
    "import sys\n",
    "from matplotlib import pyplot\n",
    "from sklearn.model_selection import train_test_split\n",
    "from sklearn.metrics import fbeta_score\n",
    "\n",
    "import keras\n",
    "from keras.applications.vgg16 import VGG16\n",
    "from keras import backend\n",
    "from keras.preprocessing.image import ImageDataGenerator\n",
    "from keras.models import Sequential, Model\n",
    "from keras.layers import Conv2D\n",
    "from keras.layers import MaxPooling2D\n",
    "from keras.layers import Dense\n",
    "from keras.layers import Flatten\n",
    "from keras.optimizers import SGD"
   ]
  },
  {
   "cell_type": "code",
   "execution_count": 194,
   "metadata": {},
   "outputs": [],
   "source": [
    "def load_saved_dataset():\n",
    "    data = np.load('myntra_train_data.npz')\n",
    "    X, y = data['arr_0'], data['arr_1']\n",
    "    trainX, testX, trainY, testY = train_test_split(X, y, test_size = 0.3, random_state = 1)\n",
    "    print(trainX.shape, trainY.shape, testX.shape, testY.shape)\n",
    "    \n",
    "    return trainX, trainY, testX, testY"
   ]
  },
  {
   "cell_type": "code",
   "execution_count": 195,
   "metadata": {},
   "outputs": [],
   "source": [
    " # calculate fbeta score for multi-class/label classification\n",
    "def fbeta(y_true, y_pred, beta=2):\n",
    "    # clip predictions\n",
    "    y_pred = keras.backend.clip(y_pred, 0, 1)\n",
    "    # calculate elements\n",
    "    tp = keras.backend.sum(keras.backend.round(keras.backend.clip(y_true * y_pred, 0, 1)), axis=1)\n",
    "    fp = keras.backend.sum(keras.backend.round(keras.backend.clip(y_pred - y_true, 0, 1)), axis=1)\n",
    "    fn = keras.backend.sum(keras.backend.round(keras.backend.clip(y_true - y_pred, 0, 1)), axis=1)\n",
    "    # calculate precision\n",
    "    p = tp / (tp + fp + keras.backend.epsilon())\n",
    "    # calculate recall\n",
    "    r = tp / (tp + fn + keras.backend.epsilon())\n",
    "    # calculate fbeta, averaged across each class\n",
    "    bb = beta ** 2\n",
    "    fbeta_score = keras.backend.mean((1 + bb) * (p * r) / (bb * p + r + keras.backend.epsilon()))\n",
    "    return fbeta_score"
   ]
  },
  {
   "cell_type": "code",
   "execution_count": 196,
   "metadata": {},
   "outputs": [
    {
     "name": "stdout",
     "output_type": "stream",
     "text": [
      "(30867, 60, 80, 3) (30867, 205) (13229, 60, 80, 3) (13229, 205)\n",
      "All Ones: train=0.111, test=0.111\n",
      "All Ones (keras): train=0.111, test=0.111\n"
     ]
    }
   ],
   "source": [
    "\n",
    "trainX, trainY, testX, testY = load_saved_dataset()\n",
    "\n",
    "# make all one predictions\n",
    "train_yhat = np.asarray([np.ones(trainY.shape[1]) for _ in range(trainY.shape[0])])\n",
    "test_yhat = np.asarray([np.ones(testY.shape[1]) for _ in range(testY.shape[0])])\n",
    "# evaluate predictions\n",
    "train_score = fbeta_score(trainY, train_yhat, 2, average='samples')\n",
    "test_score = fbeta_score(testY, test_yhat, 2, average='samples')\n",
    "print('All Ones: train=%.3f, test=%.3f' % (train_score, test_score))\n",
    "\n",
    "# evaluate predictions with keras\n",
    "train_score = fbeta(keras.backend.variable(trainY), keras.backend.variable(train_yhat))\n",
    "test_score = fbeta(keras.backend.variable(testY), keras.backend.variable(test_yhat))\n",
    "\n",
    "print('All Ones (keras): train=%.3f, test=%.3f' % (keras.backend.eval(train_score), keras.backend.eval(test_score)))"
   ]
  },
  {
   "cell_type": "code",
   "execution_count": 198,
   "metadata": {},
   "outputs": [],
   "source": [
    "# define cnn model\n",
    "def define_baseline_model(in_shape=(60,80, 3), out_shape=205):\n",
    "    model = Sequential()\n",
    "    model.add(Conv2D(32, (3, 3), activation='relu', kernel_initializer='he_uniform', padding='same', input_shape=in_shape))\n",
    "    model.add(Conv2D(32, (3, 3), activation='relu', kernel_initializer='he_uniform', padding='same'))\n",
    "    model.add(MaxPooling2D((2, 2)))\n",
    "    model.add(Conv2D(64, (3, 3), activation='relu', kernel_initializer='he_uniform', padding='same'))\n",
    "    model.add(Conv2D(64, (3, 3), activation='relu', kernel_initializer='he_uniform', padding='same'))\n",
    "    model.add(MaxPooling2D((2, 2)))\n",
    "    model.add(Conv2D(128, (3, 3), activation='relu', kernel_initializer='he_uniform', padding='same'))\n",
    "    model.add(Conv2D(128, (3, 3), activation='relu', kernel_initializer='he_uniform', padding='same'))\n",
    "    model.add(MaxPooling2D((2, 2)))\n",
    "    model.add(Flatten())\n",
    "    model.add(Dense(128, activation='relu', kernel_initializer='he_uniform'))\n",
    "    model.add(Dense(out_shape, activation='sigmoid'))\n",
    "    # compile model\n",
    "    opt = SGD(lr=0.01, momentum=0.9)\n",
    "    model.compile(optimizer=opt, loss='binary_crossentropy', metrics=[fbeta])\n",
    "    return model"
   ]
  },
  {
   "cell_type": "code",
   "execution_count": 200,
   "metadata": {},
   "outputs": [],
   "source": [
    "# plot diagnostic learning curves\n",
    "def summarize_diagnostics(history, figname):\n",
    "    # plot loss\n",
    "#     pyplot.subplot(211)\n",
    "#     pyplot.figure()\n",
    "    \n",
    "    pyplot.plot(history.history['loss'], color='blue', label='train_loss')\n",
    "    pyplot.plot(history.history['val_loss'], color='orange', label='test_loss')\n",
    "    \n",
    "    # plot accuracy\n",
    "#     pyplot.subplot(212)\n",
    "#     pyplot.title('Fbeta')\n",
    "    pyplot.plot(history.history['fbeta'], color='blue', label='train_fbeta_score')\n",
    "    pyplot.plot(history.history['val_fbeta'], color='orange', label='test_fbeta_score')\n",
    "    \n",
    "    pyplot.title(figname+': Cross Entropy Loss and Fbeta Score')\n",
    "    pyplot.legend()\n",
    "    pyplot.xlabel('Epochs')\n",
    "    \n",
    "    # save plot to file\n",
    "    filename = sys.argv[0].split('/')[-1] + '_' + figname\n",
    "    pyplot.savefig(filename + '_plot.png')\n",
    "    pyplot.close()"
   ]
  },
  {
   "cell_type": "code",
   "execution_count": 201,
   "metadata": {},
   "outputs": [],
   "source": [
    "# run the test harness for evaluating a model\n",
    "def run_test_harness(model, figname, epochs, height_shift_range=0.0, width_shift_range=0.0, shear_range=0.0, hor_flip=False, vert_flip=False, rot_range=0, featurewise_center=False):\n",
    "    # load dataset\n",
    "    trainX, trainY, testX, testY = load_saved_dataset()\n",
    "    # create data generator\n",
    "    if featurewise_center:\n",
    "        datagen = ImageDataGenerator(featurewise_center = True, height_shift_range=height_shift_range, width_shift_range=width_shift_range, shear_range=shear_range, horizontal_flip=hor_flip, vertical_flip=vert_flip, rotation_range=rot_range)\n",
    "        # specify imagenet mean values for centering\n",
    "        datagen.mean = [123.68, 116.779, 103.939]\n",
    "    else:\n",
    "        datagen = ImageDataGenerator(rescale=1.0/255.0, height_shift_range=height_shift_range, width_shift_range=width_shift_range, shear_range=shear_range, horizontal_flip=hor_flip, vertical_flip=vert_flip, rotation_range=rot_range)\n",
    "    # prepare iterators\n",
    "    train_it = datagen.flow(trainX, trainY, batch_size=128)\n",
    "    test_it = datagen.flow(testX, testY, batch_size=128)\n",
    "    \n",
    "    # fit model\n",
    "    history = model.fit_generator(train_it, steps_per_epoch=len(train_it),\n",
    "        validation_data=test_it, validation_steps=len(test_it), epochs=epochs, verbose=1)\n",
    "    # evaluate model\n",
    "    loss, fbeta = model.evaluate_generator(test_it, steps=len(test_it), verbose=1)\n",
    "    print('> loss=%.3f, fbeta=%.3f' % (loss, fbeta))\n",
    "    # learning curves\n",
    "    summarize_diagnostics(history, figname)"
   ]
  },
  {
   "cell_type": "code",
   "execution_count": 202,
   "metadata": {},
   "outputs": [
    {
     "name": "stdout",
     "output_type": "stream",
     "text": [
      "(30867, 60, 80, 3) (30867, 205) (13229, 60, 80, 3) (13229, 205)\n",
      "WARNING:tensorflow:From /home/sj/.virtualenvs/virtual-py3/lib/python3.5/site-packages/keras/backend/tensorflow_backend.py:74: The name tf.get_default_graph is deprecated. Please use tf.compat.v1.get_default_graph instead.\n",
      "\n",
      "WARNING:tensorflow:From /home/sj/.virtualenvs/virtual-py3/lib/python3.5/site-packages/keras/backend/tensorflow_backend.py:517: The name tf.placeholder is deprecated. Please use tf.compat.v1.placeholder instead.\n",
      "\n",
      "WARNING:tensorflow:From /home/sj/.virtualenvs/virtual-py3/lib/python3.5/site-packages/keras/backend/tensorflow_backend.py:4138: The name tf.random_uniform is deprecated. Please use tf.random.uniform instead.\n",
      "\n",
      "WARNING:tensorflow:From /home/sj/.virtualenvs/virtual-py3/lib/python3.5/site-packages/keras/backend/tensorflow_backend.py:3976: The name tf.nn.max_pool is deprecated. Please use tf.nn.max_pool2d instead.\n",
      "\n",
      "WARNING:tensorflow:From /home/sj/.virtualenvs/virtual-py3/lib/python3.5/site-packages/keras/optimizers.py:790: The name tf.train.Optimizer is deprecated. Please use tf.compat.v1.train.Optimizer instead.\n",
      "\n",
      "WARNING:tensorflow:From /home/sj/.virtualenvs/virtual-py3/lib/python3.5/site-packages/keras/backend/tensorflow_backend.py:3376: The name tf.log is deprecated. Please use tf.math.log instead.\n",
      "\n",
      "WARNING:tensorflow:From /home/sj/.virtualenvs/virtual-py3/lib/python3.5/site-packages/tensorflow_core/python/ops/nn_impl.py:183: where (from tensorflow.python.ops.array_ops) is deprecated and will be removed in a future version.\n",
      "Instructions for updating:\n",
      "Use tf.where in 2.0, which has the same broadcast rule as np.where\n",
      "WARNING:tensorflow:From /home/sj/.virtualenvs/virtual-py3/lib/python3.5/site-packages/keras/backend/tensorflow_backend.py:986: The name tf.assign_add is deprecated. Please use tf.compat.v1.assign_add instead.\n",
      "\n",
      "WARNING:tensorflow:From /home/sj/.virtualenvs/virtual-py3/lib/python3.5/site-packages/keras/backend/tensorflow_backend.py:973: The name tf.assign is deprecated. Please use tf.compat.v1.assign instead.\n",
      "\n",
      "Epoch 1/50\n",
      "242/242 [==============================] - 47s 192ms/step - loss: 0.1202 - fbeta: 0.2573 - val_loss: 0.0650 - val_fbeta: 0.2117\n",
      "Epoch 2/50\n",
      "242/242 [==============================] - 35s 144ms/step - loss: 0.0640 - fbeta: 0.2862 - val_loss: 0.0633 - val_fbeta: 0.3043\n",
      "Epoch 3/50\n",
      "242/242 [==============================] - 35s 144ms/step - loss: 0.0621 - fbeta: 0.3286 - val_loss: 0.0614 - val_fbeta: 0.3866\n",
      "Epoch 4/50\n",
      "242/242 [==============================] - 35s 145ms/step - loss: 0.0599 - fbeta: 0.3629 - val_loss: 0.0593 - val_fbeta: 0.3886\n",
      "Epoch 5/50\n",
      "242/242 [==============================] - 36s 148ms/step - loss: 0.0576 - fbeta: 0.3926 - val_loss: 0.0572 - val_fbeta: 0.4360\n",
      "Epoch 6/50\n",
      "242/242 [==============================] - 36s 149ms/step - loss: 0.0553 - fbeta: 0.4218 - val_loss: 0.0546 - val_fbeta: 0.4172\n",
      "Epoch 7/50\n",
      "242/242 [==============================] - 36s 147ms/step - loss: 0.0531 - fbeta: 0.4497 - val_loss: 0.0528 - val_fbeta: 0.4641\n",
      "Epoch 8/50\n",
      "242/242 [==============================] - 36s 149ms/step - loss: 0.0511 - fbeta: 0.4728 - val_loss: 0.0508 - val_fbeta: 0.4741\n",
      "Epoch 9/50\n",
      "242/242 [==============================] - 36s 149ms/step - loss: 0.0493 - fbeta: 0.4941 - val_loss: 0.0492 - val_fbeta: 0.4724\n",
      "Epoch 10/50\n",
      "242/242 [==============================] - 36s 148ms/step - loss: 0.0478 - fbeta: 0.5146 - val_loss: 0.0477 - val_fbeta: 0.5253\n",
      "Epoch 11/50\n",
      "242/242 [==============================] - 36s 148ms/step - loss: 0.0465 - fbeta: 0.5302 - val_loss: 0.0467 - val_fbeta: 0.5505\n",
      "Epoch 12/50\n",
      "242/242 [==============================] - 36s 148ms/step - loss: 0.0455 - fbeta: 0.5438 - val_loss: 0.0457 - val_fbeta: 0.5433\n",
      "Epoch 13/50\n",
      "242/242 [==============================] - 36s 148ms/step - loss: 0.0445 - fbeta: 0.5552 - val_loss: 0.0448 - val_fbeta: 0.5414\n",
      "Epoch 14/50\n",
      "242/242 [==============================] - 36s 148ms/step - loss: 0.0436 - fbeta: 0.5641 - val_loss: 0.0442 - val_fbeta: 0.5699\n",
      "Epoch 15/50\n",
      "242/242 [==============================] - 36s 149ms/step - loss: 0.0430 - fbeta: 0.5734 - val_loss: 0.0432 - val_fbeta: 0.5807\n",
      "Epoch 16/50\n",
      "242/242 [==============================] - 36s 148ms/step - loss: 0.0422 - fbeta: 0.5827 - val_loss: 0.0426 - val_fbeta: 0.5737\n",
      "Epoch 17/50\n",
      "242/242 [==============================] - 36s 148ms/step - loss: 0.0416 - fbeta: 0.5905 - val_loss: 0.0426 - val_fbeta: 0.5886\n",
      "Epoch 18/50\n",
      "242/242 [==============================] - 36s 148ms/step - loss: 0.0410 - fbeta: 0.5965 - val_loss: 0.0422 - val_fbeta: 0.6105\n",
      "Epoch 19/50\n",
      "242/242 [==============================] - 36s 148ms/step - loss: 0.0405 - fbeta: 0.6023 - val_loss: 0.0409 - val_fbeta: 0.6049\n",
      "Epoch 20/50\n",
      "242/242 [==============================] - 36s 148ms/step - loss: 0.0400 - fbeta: 0.6072 - val_loss: 0.0415 - val_fbeta: 0.5858\n",
      "Epoch 21/50\n",
      "242/242 [==============================] - 36s 148ms/step - loss: 0.0395 - fbeta: 0.6130 - val_loss: 0.0405 - val_fbeta: 0.5927\n",
      "Epoch 22/50\n",
      "242/242 [==============================] - 35s 145ms/step - loss: 0.0389 - fbeta: 0.6186 - val_loss: 0.0405 - val_fbeta: 0.6078\n",
      "Epoch 23/50\n",
      "242/242 [==============================] - 35s 145ms/step - loss: 0.0385 - fbeta: 0.6242 - val_loss: 0.0394 - val_fbeta: 0.6280\n",
      "Epoch 24/50\n",
      "242/242 [==============================] - 36s 147ms/step - loss: 0.0381 - fbeta: 0.6280 - val_loss: 0.0389 - val_fbeta: 0.6224\n",
      "Epoch 25/50\n",
      "242/242 [==============================] - 36s 148ms/step - loss: 0.0376 - fbeta: 0.6340 - val_loss: 0.0391 - val_fbeta: 0.6298\n",
      "Epoch 26/50\n",
      "242/242 [==============================] - 35s 146ms/step - loss: 0.0373 - fbeta: 0.6374 - val_loss: 0.0384 - val_fbeta: 0.6145\n",
      "Epoch 27/50\n",
      "242/242 [==============================] - 35s 146ms/step - loss: 0.0370 - fbeta: 0.6402 - val_loss: 0.0382 - val_fbeta: 0.6311\n",
      "Epoch 28/50\n",
      "242/242 [==============================] - 35s 145ms/step - loss: 0.0366 - fbeta: 0.6451 - val_loss: 0.0380 - val_fbeta: 0.6319\n",
      "Epoch 29/50\n",
      "242/242 [==============================] - 35s 146ms/step - loss: 0.0363 - fbeta: 0.6476 - val_loss: 0.0378 - val_fbeta: 0.6331\n",
      "Epoch 30/50\n",
      "242/242 [==============================] - 36s 148ms/step - loss: 0.0360 - fbeta: 0.6514 - val_loss: 0.0380 - val_fbeta: 0.6203\n",
      "Epoch 31/50\n",
      "242/242 [==============================] - 36s 149ms/step - loss: 0.0357 - fbeta: 0.6530 - val_loss: 0.0370 - val_fbeta: 0.6351\n",
      "Epoch 32/50\n",
      "242/242 [==============================] - 35s 145ms/step - loss: 0.0353 - fbeta: 0.6578 - val_loss: 0.0366 - val_fbeta: 0.6296\n",
      "Epoch 33/50\n",
      "242/242 [==============================] - 35s 146ms/step - loss: 0.0349 - fbeta: 0.6625 - val_loss: 0.0367 - val_fbeta: 0.6563\n",
      "Epoch 34/50\n",
      "242/242 [==============================] - 36s 147ms/step - loss: 0.0347 - fbeta: 0.6634 - val_loss: 0.0362 - val_fbeta: 0.6484\n",
      "Epoch 35/50\n",
      "242/242 [==============================] - 35s 147ms/step - loss: 0.0345 - fbeta: 0.6669 - val_loss: 0.0359 - val_fbeta: 0.6432\n",
      "Epoch 36/50\n",
      "242/242 [==============================] - 35s 146ms/step - loss: 0.0341 - fbeta: 0.6699 - val_loss: 0.0359 - val_fbeta: 0.6355\n",
      "Epoch 37/50\n",
      "242/242 [==============================] - 35s 146ms/step - loss: 0.0339 - fbeta: 0.6724 - val_loss: 0.0358 - val_fbeta: 0.6549\n",
      "Epoch 38/50\n",
      "242/242 [==============================] - 35s 146ms/step - loss: 0.0337 - fbeta: 0.6740 - val_loss: 0.0359 - val_fbeta: 0.6312\n",
      "Epoch 39/50\n",
      "242/242 [==============================] - 35s 147ms/step - loss: 0.0334 - fbeta: 0.6771 - val_loss: 0.0355 - val_fbeta: 0.6679\n",
      "Epoch 40/50\n",
      "242/242 [==============================] - 35s 146ms/step - loss: 0.0333 - fbeta: 0.6799 - val_loss: 0.0352 - val_fbeta: 0.6602\n",
      "Epoch 41/50\n",
      "242/242 [==============================] - 35s 145ms/step - loss: 0.0330 - fbeta: 0.6816 - val_loss: 0.0349 - val_fbeta: 0.6547\n",
      "Epoch 42/50\n",
      "242/242 [==============================] - 35s 145ms/step - loss: 0.0327 - fbeta: 0.6853 - val_loss: 0.0353 - val_fbeta: 0.6583\n",
      "Epoch 43/50\n",
      "242/242 [==============================] - 35s 145ms/step - loss: 0.0325 - fbeta: 0.6876 - val_loss: 0.0348 - val_fbeta: 0.6654\n",
      "Epoch 44/50\n",
      "242/242 [==============================] - 35s 144ms/step - loss: 0.0323 - fbeta: 0.6881 - val_loss: 0.0345 - val_fbeta: 0.6750\n"
     ]
    },
    {
     "name": "stdout",
     "output_type": "stream",
     "text": [
      "Epoch 45/50\n",
      "242/242 [==============================] - 35s 143ms/step - loss: 0.0322 - fbeta: 0.6906 - val_loss: 0.0343 - val_fbeta: 0.6696\n",
      "Epoch 46/50\n",
      "242/242 [==============================] - 35s 144ms/step - loss: 0.0319 - fbeta: 0.6919 - val_loss: 0.0340 - val_fbeta: 0.6697\n",
      "Epoch 47/50\n",
      "242/242 [==============================] - 35s 144ms/step - loss: 0.0318 - fbeta: 0.6941 - val_loss: 0.0347 - val_fbeta: 0.6442\n",
      "Epoch 48/50\n",
      "242/242 [==============================] - 35s 144ms/step - loss: 0.0315 - fbeta: 0.6984 - val_loss: 0.0339 - val_fbeta: 0.6803\n",
      "Epoch 49/50\n",
      "242/242 [==============================] - 35s 144ms/step - loss: 0.0312 - fbeta: 0.7002 - val_loss: 0.0338 - val_fbeta: 0.6721\n",
      "Epoch 50/50\n",
      "242/242 [==============================] - 35s 144ms/step - loss: 0.0311 - fbeta: 0.7021 - val_loss: 0.0336 - val_fbeta: 0.6873\n",
      "104/104 [==============================] - 5s 45ms/step\n",
      "> loss=0.034, fbeta=0.687\n"
     ]
    }
   ],
   "source": [
    "# entry point, run the test harness\n",
    "model = define_baseline_model()\n",
    "run_test_harness(model, 'Baseline', 50)"
   ]
  },
  {
   "cell_type": "code",
   "execution_count": null,
   "metadata": {},
   "outputs": [],
   "source": [
    "# define cnn model\n",
    "def define_bl_dropout_model(in_shape=(60, 80, 3), out_shape=205):\n",
    "    model = Sequential()\n",
    "    model.add(Conv2D(32, (3, 3), activation='relu', kernel_initializer='he_uniform', padding='same', input_shape=in_shape))\n",
    "    model.add(Conv2D(32, (3, 3), activation='relu', kernel_initializer='he_uniform', padding='same'))\n",
    "    model.add(MaxPooling2D((2, 2)))\n",
    "    model.add(Dropout(0.2))\n",
    "    model.add(Conv2D(64, (3, 3), activation='relu', kernel_initializer='he_uniform', padding='same'))\n",
    "    model.add(Conv2D(64, (3, 3), activation='relu', kernel_initializer='he_uniform', padding='same'))\n",
    "    model.add(MaxPooling2D((2, 2)))\n",
    "    model.add(Dropout(0.2))\n",
    "    model.add(Conv2D(128, (3, 3), activation='relu', kernel_initializer='he_uniform', padding='same'))\n",
    "    model.add(Conv2D(128, (3, 3), activation='relu', kernel_initializer='he_uniform', padding='same'))\n",
    "    model.add(MaxPooling2D((2, 2)))\n",
    "    model.add(Dropout(0.2))\n",
    "    model.add(Flatten())\n",
    "    model.add(Dense(128, activation='relu', kernel_initializer='he_uniform'))\n",
    "    model.add(Dropout(0.5))\n",
    "    model.add(Dense(out_shape, activation='sigmoid'))\n",
    "    # compile model\n",
    "    opt = SGD(lr=0.01, momentum=0.9)\n",
    "    model.compile(optimizer=opt, loss='binary_crossentropy', metrics=[fbeta])\n",
    "    return model"
   ]
  },
  {
   "cell_type": "code",
   "execution_count": null,
   "metadata": {},
   "outputs": [],
   "source": [
    "# entry point, run the test harness for dropout model without augmentation\n",
    "model = define_bl_dropout_model()\n",
    "run_test_harness(model, 'Bl_Dropout', 200)"
   ]
  },
  {
   "cell_type": "code",
   "execution_count": null,
   "metadata": {},
   "outputs": [],
   "source": [
    "# entry point, run the test harness for baseline model with augmentation\n",
    "model = define_baseline_model()\n",
    "run_test_harness(model, 'Bl_Img_Aug', 200, 0.1, 0.1, 10, True, True, 90)"
   ]
  },
  {
   "cell_type": "code",
   "execution_count": null,
   "metadata": {},
   "outputs": [],
   "source": [
    "# define cnn model\n",
    "def define_vgg_model(in_shape=(60, 80, 3), out_shape=205, model_trainable=False):\n",
    "    # load model\n",
    "    model = VGG16(include_top=False, input_shape=in_shape)\n",
    "    # mark loaded layers as not trainable\n",
    "    for layer in model.layers:\n",
    "        layer.trainable = False\n",
    "    if model_trainable:\n",
    "        # allow last vgg block to be trainable\n",
    "        model.get_layer('block5_conv1').trainable = True\n",
    "        model.get_layer('block5_conv2').trainable = True\n",
    "        model.get_layer('block5_conv3').trainable = True\n",
    "        model.get_layer('block5_pool').trainable = True\n",
    "    # add new classifier layers\n",
    "    flat1 = Flatten()(model.layers[-1].output)\n",
    "    class1 = Dense(128, activation='relu', kernel_initializer='he_uniform')(flat1)\n",
    "    output = Dense(out_shape, activation='sigmoid')(class1)\n",
    "    # define new model\n",
    "    model = Model(inputs=model.inputs, outputs=output)\n",
    "    # compile model\n",
    "    opt = SGD(lr=0.01, momentum=0.9)\n",
    "    model.compile(optimizer=opt, loss='binary_crossentropy', metrics=[fbeta])\n",
    "    return model"
   ]
  },
  {
   "cell_type": "code",
   "execution_count": null,
   "metadata": {},
   "outputs": [],
   "source": [
    "# entry point, run the test harness for vgg model without augmentation\n",
    "model = define_vgg_model()\n",
    "run_test_harness(model, 'VGG', epochs=20, featurewise_center = True)"
   ]
  },
  {
   "cell_type": "code",
   "execution_count": null,
   "metadata": {},
   "outputs": [],
   "source": [
    "# entry point, run the test harness for baseline model with augmentation\n",
    "model = define_vgg_model()\n",
    "run_test_harness(model, 'VGG_fine_tune', 50, featurewise_center = True)"
   ]
  },
  {
   "cell_type": "code",
   "execution_count": null,
   "metadata": {},
   "outputs": [],
   "source": [
    "# entry point, run the test harness for baseline model with augmentation\n",
    "model = define_vgg_model()\n",
    "run_test_harness(model, 'VGG_Img_Aug_fine_tune', 50, 0.1, 0.1, 10, True, True, 90, featurewise_center = True)"
   ]
  },
  {
   "cell_type": "code",
   "execution_count": 217,
   "metadata": {},
   "outputs": [
    {
     "data": {
      "text/plain": [
       "<matplotlib.legend.Legend at 0x7fb2e6cb63c8>"
      ]
     },
     "execution_count": 217,
     "metadata": {},
     "output_type": "execute_result"
    },
    {
     "data": {
      "image/png": "[encoded data removed]",
      "text/plain": [
       "<Figure size 432x288 with 1 Axes>"
      ]
     },
     "metadata": {
      "needs_background": "light"
     },
     "output_type": "display_data"
    }
   ],
   "source": [
    "l=np.linspace(0,1,11)\n",
    "# fig,ax=pyplot.figure(figsize=(6,4))\n",
    "pyplot.figure()\n",
    "pyplot.plot(range(11), l, label=['line'])\n",
    "pyplot.plot(range(11,0,-1), l, label=['line_rev'])\n",
    "pyplot.xlabel('Epochs')\n",
    "pyplot.legend()\n",
    "# pyplot.close()"
   ]
  }
 ],
 "metadata": {
  "kernelspec": {
   "display_name": "Python 3",
   "language": "python",
   "name": "python3"
  },
  "language_info": {
   "codemirror_mode": {
    "name": "ipython",
    "version": 3
   },
   "file_extension": ".py",
   "mimetype": "text/x-python",
   "name": "python",
   "nbconvert_exporter": "python",
   "pygments_lexer": "ipython3",
   "version": "3.5.2"
  }
 },
 "nbformat": 4,
 "nbformat_minor": 2
}
